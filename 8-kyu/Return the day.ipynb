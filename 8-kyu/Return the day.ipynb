{
 "cells": [
  {
   "cell_type": "markdown",
   "metadata": {},
   "source": [
    "### Return the day\n",
    "\n",
    "Complete the function which returns the weekday according to the input number:\n",
    "\n",
    "- 1 returns \"Sunday\"\n",
    "- 2 returns \"Monday\"\n",
    "- 3 returns \"Tuesday\"\n",
    "- 4 returns \"Wednesday\"\n",
    "- 5 returns \"Thursday\"\n",
    "6 returns \"Friday\"\n",
    "7 returns \"Saturday\"\n",
    "Otherwise returns \"Wrong, please enter a number between 1 and 7\""
   ]
  },
  {
   "cell_type": "code",
   "execution_count": 13,
   "metadata": {},
   "outputs": [],
   "source": [
    "def whatday(num):\n",
    "    day = ['Sunday','Monday','Tuesday','Wednesday','Thursday','Friday','Saturday']\n",
    "    if num in range(1,8):\n",
    "        return day[num-1]\n",
    "    else: return \"Wrong, please enter a number between 1 and 7\""
   ]
  },
  {
   "cell_type": "code",
   "execution_count": 15,
   "metadata": {},
   "outputs": [
    {
     "data": {
      "text/plain": [
       "'Wrong, please enter a number between 1 and 7'"
      ]
     },
     "execution_count": 15,
     "metadata": {},
     "output_type": "execute_result"
    }
   ],
   "source": [
    "whatday(9)"
   ]
  },
  {
   "cell_type": "code",
   "execution_count": 16,
   "metadata": {},
   "outputs": [
    {
     "data": {
      "text/plain": [
       "'Wednesday'"
      ]
     },
     "execution_count": 16,
     "metadata": {},
     "output_type": "execute_result"
    }
   ],
   "source": [
    "whatday(4)"
   ]
  }
 ],
 "metadata": {
  "kernelspec": {
   "display_name": "Python 3",
   "language": "python",
   "name": "python3"
  },
  "language_info": {
   "codemirror_mode": {
    "name": "ipython",
    "version": 3
   },
   "file_extension": ".py",
   "mimetype": "text/x-python",
   "name": "python",
   "nbconvert_exporter": "python",
   "pygments_lexer": "ipython3",
   "version": "3.7.4"
  }
 },
 "nbformat": 4,
 "nbformat_minor": 2
}
