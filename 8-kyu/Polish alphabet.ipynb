{
 "cells": [
  {
   "cell_type": "markdown",
   "metadata": {},
   "source": [
    "### Polish alphabet\n",
    "\n",
    "There are 32 letters in the Polish alphabet: 9 vowels and 23 consonants.\n",
    "\n",
    "Your task is to change the letters with diacritics:\n",
    "- ą -> a,\n",
    "- ć -> c,\n",
    "- ę -> e,\n",
    "- ł -> l,\n",
    "- ń -> n,\n",
    "- ó -> o,\n",
    "- ś -> s,\n",
    "- ź -> z,\n",
    "- ż -> z\n",
    "and print out the string without the use of the Polish letters."
   ]
  },
  {
   "cell_type": "code",
   "execution_count": 1,
   "metadata": {},
   "outputs": [],
   "source": [
    "mydict = {\n",
    "    'ą':'a',\n",
    "    'ć':'c',\n",
    "    'ę':'e',\n",
    "    'ł':'l',\n",
    "    'ń':'n',\n",
    "    'ó':'o',\n",
    "    'ś':'s',\n",
    "    'ź':'z',\n",
    "    'ż':'z'\n",
    "}\n",
    "def correct_polish_letters(st): \n",
    "    return st.translate(st.maketrans(mydict))"
   ]
  },
  {
   "cell_type": "code",
   "execution_count": 2,
   "metadata": {},
   "outputs": [
    {
     "data": {
      "text/plain": [
       "'Jedrzej Bladzinski'"
      ]
     },
     "execution_count": 2,
     "metadata": {},
     "output_type": "execute_result"
    }
   ],
   "source": [
    "correct_polish_letters(\"Jędrzej Błądziński\")"
   ]
  },
  {
   "cell_type": "code",
   "execution_count": 3,
   "metadata": {},
   "outputs": [
    {
     "data": {
      "text/plain": [
       "'Maria Sklodowska-Curie'"
      ]
     },
     "execution_count": 3,
     "metadata": {},
     "output_type": "execute_result"
    }
   ],
   "source": [
    "correct_polish_letters(\"Maria Skłodowska-Curie\")"
   ]
  }
 ],
 "metadata": {
  "kernelspec": {
   "display_name": "Python 3",
   "language": "python",
   "name": "python3"
  },
  "language_info": {
   "codemirror_mode": {
    "name": "ipython",
    "version": 3
   },
   "file_extension": ".py",
   "mimetype": "text/x-python",
   "name": "python",
   "nbconvert_exporter": "python",
   "pygments_lexer": "ipython3",
   "version": "3.7.6"
  }
 },
 "nbformat": 4,
 "nbformat_minor": 4
}
