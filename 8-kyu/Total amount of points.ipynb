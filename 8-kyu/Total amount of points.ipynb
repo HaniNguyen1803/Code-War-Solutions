{
 "cells": [
  {
   "cell_type": "markdown",
   "metadata": {},
   "source": [
    "### Total amount of points\n",
    "\n",
    "Our football team finished the championship. The result of each match look like \"x:y\". Results of all matches are recorded in the collection.\n",
    "\n",
    "For example: [\"3:1\", \"2:2\", \"0:1\", ...]\n",
    "\n",
    "Write a function that takes such collection and counts the points of our team in the championship. Rules for counting points for each match:\n",
    "\n",
    "- if x>y - 3 points\n",
    "- if x<y - 0 point\n",
    "- if x=y - 1 point\n",
    "\n",
    "Notes:\n",
    "\n",
    "- there are 10 matches in the championship\n",
    "- 0 <= x <= 4\n",
    "- 0 <= y <= 4"
   ]
  },
  {
   "cell_type": "code",
   "execution_count": 1,
   "metadata": {},
   "outputs": [],
   "source": [
    "def points(games):\n",
    "    points = 0\n",
    "    for i in games:\n",
    "        if i[0]>i[-1]: points += 3\n",
    "        elif i[0]<i[-1]: points += 0\n",
    "        elif i[0]==i[-1]: points += 1\n",
    "    return points"
   ]
  },
  {
   "cell_type": "code",
   "execution_count": 2,
   "metadata": {},
   "outputs": [
    {
     "data": {
      "text/plain": [
       "30"
      ]
     },
     "execution_count": 2,
     "metadata": {},
     "output_type": "execute_result"
    }
   ],
   "source": [
    "points(['1:0','2:0','3:0','4:0','2:1','3:1','4:1','3:2','4:2','4:3'])"
   ]
  },
  {
   "cell_type": "code",
   "execution_count": 3,
   "metadata": {},
   "outputs": [
    {
     "data": {
      "text/plain": [
       "30"
      ]
     },
     "execution_count": 3,
     "metadata": {},
     "output_type": "execute_result"
    }
   ],
   "source": [
    "points(['1:0','2:0','3:0','4:0','2:1','3:1','4:1','3:2','4:2','4:3'])"
   ]
  },
  {
   "cell_type": "code",
   "execution_count": 4,
   "metadata": {},
   "outputs": [
    {
     "data": {
      "text/plain": [
       "0"
      ]
     },
     "execution_count": 4,
     "metadata": {},
     "output_type": "execute_result"
    }
   ],
   "source": [
    "points(['0:1','0:2','0:3','0:4','1:2','1:3','1:4','2:3','2:4','3:4'])"
   ]
  }
 ],
 "metadata": {
  "kernelspec": {
   "display_name": "Python 3",
   "language": "python",
   "name": "python3"
  },
  "language_info": {
   "codemirror_mode": {
    "name": "ipython",
    "version": 3
   },
   "file_extension": ".py",
   "mimetype": "text/x-python",
   "name": "python",
   "nbconvert_exporter": "python",
   "pygments_lexer": "ipython3",
   "version": "3.7.6"
  }
 },
 "nbformat": 4,
 "nbformat_minor": 4
}
