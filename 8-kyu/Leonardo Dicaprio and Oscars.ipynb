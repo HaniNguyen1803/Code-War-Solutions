{
 "cells": [
  {
   "cell_type": "markdown",
   "metadata": {},
   "source": [
    "### Leonardo Dicaprio and Oscars\n",
    "\n",
    "You have to write a function that describe Leo:\n",
    "\n",
    "- if oscar was (integer) 88, you have to return \"Leo finally won the oscar! Leo is happy\".\n",
    "- if oscar was 86, you have to return \"Not even for Wolf of wallstreet?!\"\n",
    "- if it was not 88 or 86 (and below 88) you should return \"When will you give Leo an Oscar?\"\n",
    "- if it was over 88 you should return \"Leo got one already!\""
   ]
  },
  {
   "cell_type": "code",
   "execution_count": 1,
   "metadata": {},
   "outputs": [],
   "source": [
    "def leo(oscar):\n",
    "    if oscar == 86: return \"Not even for Wolf of wallstreet?!\"\n",
    "    elif oscar < 88 and oscar != 86: return \"When will you give Leo an Oscar?\"\n",
    "    elif oscar == 88: return \"Leo finally won the oscar! Leo is happy\"\n",
    "    else: return \"Leo got one already!\""
   ]
  }
 ],
 "metadata": {
  "kernelspec": {
   "display_name": "Python 3",
   "language": "python",
   "name": "python3"
  },
  "language_info": {
   "codemirror_mode": {
    "name": "ipython",
    "version": 3
   },
   "file_extension": ".py",
   "mimetype": "text/x-python",
   "name": "python",
   "nbconvert_exporter": "python",
   "pygments_lexer": "ipython3",
   "version": "3.7.4"
  }
 },
 "nbformat": 4,
 "nbformat_minor": 2
}
