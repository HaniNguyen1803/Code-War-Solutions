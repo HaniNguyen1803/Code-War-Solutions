{
 "cells": [
  {
   "cell_type": "markdown",
   "metadata": {},
   "source": [
    "### Hex to Decimal\n",
    "\n",
    "Complete the function which converts hex number (given as a string) to a decimal number."
   ]
  },
  {
   "cell_type": "code",
   "execution_count": 1,
   "metadata": {},
   "outputs": [],
   "source": [
    "list_with_keys = list(map(chr,range(ord('a'),ord('f')+1)))\n",
    "\n",
    "my_list = []\n",
    "for item in list(range(10)):\n",
    "    my_list.append(str(item))\n",
    "    \n",
    "list_with_keys = my_list + list_with_keys\n",
    "list_with_values = list(range(16))\n",
    "\n",
    "hex_dict = dict(zip(list_with_keys,list_with_values))\n",
    "\n",
    "def hex_to_dec(s):\n",
    "    hex_convert = []\n",
    "    for char in list(s):\n",
    "        for key, value in hex_dict.items():\n",
    "            if char == key: hex_convert.append(value)\n",
    "    hex_num = 0\n",
    "    for (index,number) in zip(range(len(hex_convert)),reversed(hex_convert)):\n",
    "        hex_num = hex_num + (number*(16**index))\n",
    "    return hex_num"
   ]
  },
  {
   "cell_type": "code",
   "execution_count": 2,
   "metadata": {},
   "outputs": [
    {
     "data": {
      "text/plain": [
       "10"
      ]
     },
     "execution_count": 2,
     "metadata": {},
     "output_type": "execute_result"
    }
   ],
   "source": [
    "hex_to_dec('a')"
   ]
  },
  {
   "cell_type": "code",
   "execution_count": 3,
   "metadata": {},
   "outputs": [
    {
     "data": {
      "text/plain": [
       "16"
      ]
     },
     "execution_count": 3,
     "metadata": {},
     "output_type": "execute_result"
    }
   ],
   "source": [
    "hex_to_dec(\"10\")"
   ]
  },
  {
   "cell_type": "code",
   "execution_count": 4,
   "metadata": {},
   "outputs": [
    {
     "data": {
      "text/plain": [
       "3260"
      ]
     },
     "execution_count": 4,
     "metadata": {},
     "output_type": "execute_result"
    }
   ],
   "source": [
    "hex_to_dec(\"cbc\")"
   ]
  }
 ],
 "metadata": {
  "kernelspec": {
   "display_name": "Python 3",
   "language": "python",
   "name": "python3"
  },
  "language_info": {
   "codemirror_mode": {
    "name": "ipython",
    "version": 3
   },
   "file_extension": ".py",
   "mimetype": "text/x-python",
   "name": "python",
   "nbconvert_exporter": "python",
   "pygments_lexer": "ipython3",
   "version": "3.7.4"
  }
 },
 "nbformat": 4,
 "nbformat_minor": 2
}
