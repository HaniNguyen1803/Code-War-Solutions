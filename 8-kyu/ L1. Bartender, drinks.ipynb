{
 "cells": [
  {
   "cell_type": "code",
   "execution_count": null,
   "metadata": {},
   "outputs": [],
   "source": []
  },
  {
   "cell_type": "code",
   "execution_count": 8,
   "metadata": {},
   "outputs": [],
   "source": [
    "def get_drink_by_profession(param):\n",
    "    if param.lower() == 'jabroni': return 'Patron Tequila'\n",
    "    elif param.lower() == 'school counselor': return 'Anything with Alcohol'\n",
    "    elif param.lower() == 'programmer': return 'Hipster Craft Beer'\n",
    "    elif param.lower() == 'bike gang member': return 'Moonshine'\n",
    "    elif param.lower() == 'politician': return 'Your tax dollars'\n",
    "    elif param.lower() == 'rapper': return 'Cristal'\n",
    "    else: return 'Beer'"
   ]
  },
  {
   "cell_type": "code",
   "execution_count": 2,
   "metadata": {},
   "outputs": [
    {
     "data": {
      "text/plain": [
       "'Beer'"
      ]
     },
     "execution_count": 2,
     "metadata": {},
     "output_type": "execute_result"
    }
   ],
   "source": [
    "get_drink_by_profession(\"Pug\")"
   ]
  },
  {
   "cell_type": "code",
   "execution_count": 9,
   "metadata": {},
   "outputs": [
    {
     "name": "stdout",
     "output_type": "stream",
     "text": [
      "politician\n"
     ]
    },
    {
     "data": {
      "text/plain": [
       "'Your tax dollars'"
      ]
     },
     "execution_count": 9,
     "metadata": {},
     "output_type": "execute_result"
    }
   ],
   "source": [
    "get_drink_by_profession(\"poLiTiCian\")"
   ]
  }
 ],
 "metadata": {
  "kernelspec": {
   "display_name": "Python 3",
   "language": "python",
   "name": "python3"
  },
  "language_info": {
   "codemirror_mode": {
    "name": "ipython",
    "version": 3
   },
   "file_extension": ".py",
   "mimetype": "text/x-python",
   "name": "python",
   "nbconvert_exporter": "python",
   "pygments_lexer": "ipython3",
   "version": "3.7.6"
  }
 },
 "nbformat": 4,
 "nbformat_minor": 4
}
