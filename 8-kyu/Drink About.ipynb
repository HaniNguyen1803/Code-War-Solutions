{
 "cells": [
  {
   "cell_type": "markdown",
   "metadata": {},
   "source": [
    "### Drink About\n",
    "\n",
    "Kids drink toddy.\n",
    "Teens drink coke.\n",
    "Young adults drink beer.\n",
    "Adults drink whisky.\n",
    "Make a function that receive age, and return what they drink.\n",
    "\n",
    "Rules:\n",
    "\n",
    "Children under 14 old.\n",
    "Teens under 18 old.\n",
    "Young under 21 old.\n",
    "Adults have 21 or more."
   ]
  },
  {
   "cell_type": "code",
   "execution_count": 1,
   "metadata": {},
   "outputs": [],
   "source": [
    "def people_with_age_drink(age):\n",
    "    if age < 14: return \"drink toddy\"\n",
    "    elif age < 18: return \"drink coke\"\n",
    "    elif age < 21: return \"drink beer\"\n",
    "    else: return \"drink whisky\""
   ]
  },
  {
   "cell_type": "code",
   "execution_count": 2,
   "metadata": {},
   "outputs": [
    {
     "data": {
      "text/plain": [
       "'drink toddy'"
      ]
     },
     "execution_count": 2,
     "metadata": {},
     "output_type": "execute_result"
    }
   ],
   "source": [
    "people_with_age_drink(13)"
   ]
  },
  {
   "cell_type": "code",
   "execution_count": 3,
   "metadata": {},
   "outputs": [
    {
     "data": {
      "text/plain": [
       "'drink whisky'"
      ]
     },
     "execution_count": 3,
     "metadata": {},
     "output_type": "execute_result"
    }
   ],
   "source": [
    "people_with_age_drink(30)"
   ]
  }
 ],
 "metadata": {
  "kernelspec": {
   "display_name": "Python 3",
   "language": "python",
   "name": "python3"
  },
  "language_info": {
   "codemirror_mode": {
    "name": "ipython",
    "version": 3
   },
   "file_extension": ".py",
   "mimetype": "text/x-python",
   "name": "python",
   "nbconvert_exporter": "python",
   "pygments_lexer": "ipython3",
   "version": "3.7.4"
  }
 },
 "nbformat": 4,
 "nbformat_minor": 2
}
