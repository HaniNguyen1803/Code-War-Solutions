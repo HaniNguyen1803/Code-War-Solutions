{
 "cells": [
  {
   "cell_type": "markdown",
   "metadata": {},
   "source": [
    "### Responsible Drinking\n",
    "\n",
    "Codewars Bar recommends you drink 1 glass of water per standard drink so you're not hungover tomorrow morning.\n",
    "\n",
    "Your fellow coders have bought you several drinks tonight in the form of a string. Return a string suggesting how many glasses of water you should drink to not be hungover.\n",
    "\n",
    "Notes\n",
    "- To keep the things simple, we'll consider that anything with a number in front of it is a drink: \"1 bear\" => \"1 glass of water\" or \"1 chainsaw and 2 pools\" => \"3 glasses of water\"\n",
    "- The number in front of each drink lies in range [1; 9]"
   ]
  },
  {
   "cell_type": "code",
   "execution_count": 1,
   "metadata": {},
   "outputs": [],
   "source": [
    "def hydrate(s):\n",
    "    water = 0\n",
    "    for i in s.split():\n",
    "        if i.isdigit() == True: \n",
    "            water = water + int(i)\n",
    "    return \"{} {} of water\".format(water,'glass') if water==1 else \"{} {} of water\".format(water,'glasses')"
   ]
  },
  {
   "cell_type": "code",
   "execution_count": 2,
   "metadata": {},
   "outputs": [
    {
     "data": {
      "text/plain": [
       "'10 glasses of water'"
      ]
     },
     "execution_count": 2,
     "metadata": {},
     "output_type": "execute_result"
    }
   ],
   "source": [
    "hydrate(\"1 shot, 5 beers, 2 shots, 1 glass of wine, 1 beer\")"
   ]
  },
  {
   "cell_type": "code",
   "execution_count": 3,
   "metadata": {},
   "outputs": [
    {
     "data": {
      "text/plain": [
       "'1 glass of water'"
      ]
     },
     "execution_count": 3,
     "metadata": {},
     "output_type": "execute_result"
    }
   ],
   "source": [
    "hydrate(\"1 beer\")"
   ]
  }
 ],
 "metadata": {
  "kernelspec": {
   "display_name": "Python 3",
   "language": "python",
   "name": "python3"
  },
  "language_info": {
   "codemirror_mode": {
    "name": "ipython",
    "version": 3
   },
   "file_extension": ".py",
   "mimetype": "text/x-python",
   "name": "python",
   "nbconvert_exporter": "python",
   "pygments_lexer": "ipython3",
   "version": "3.7.4"
  }
 },
 "nbformat": 4,
 "nbformat_minor": 2
}
