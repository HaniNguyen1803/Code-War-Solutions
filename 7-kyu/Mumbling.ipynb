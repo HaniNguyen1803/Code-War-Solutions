{
 "cells": [
  {
   "cell_type": "markdown",
   "metadata": {},
   "source": [
    "### Mumbling\n",
    "\n",
    "This time no story, no theory. The examples below show you how to write function accum:\n",
    "\n",
    "Examples:\n",
    "\n",
    "- accum(\"abcd\") -> \"A-Bb-Ccc-Dddd\"\n",
    "- accum(\"RqaEzty\") -> \"R-Qq-Aaa-Eeee-Zzzzz-Tttttt-Yyyyyyy\"\n",
    "- accum(\"cwAt\") -> \"C-Ww-Aaa-Tttt\"\n",
    "- The parameter of accum is a string which includes only letters from a..z and A..Z."
   ]
  },
  {
   "cell_type": "code",
   "execution_count": 1,
   "metadata": {},
   "outputs": [],
   "source": [
    "def accum(s):\n",
    "    new = []\n",
    "    for i,j in enumerate(s):\n",
    "        new.append(j.upper() + j.lower()*i + \"-\")\n",
    "        new1 = \"\".join(new)\n",
    "    return (new1[:-1])"
   ]
  },
  {
   "cell_type": "code",
   "execution_count": 2,
   "metadata": {},
   "outputs": [
    {
     "data": {
      "text/plain": [
       "'A-Bb-Ccc-Dddd'"
      ]
     },
     "execution_count": 2,
     "metadata": {},
     "output_type": "execute_result"
    }
   ],
   "source": [
    "accum(\"abcd\")"
   ]
  },
  {
   "cell_type": "code",
   "execution_count": 3,
   "metadata": {},
   "outputs": [
    {
     "data": {
      "text/plain": [
       "'R-Qq-Aaa-Eeee-Zzzzz-Tttttt-Yyyyyyy'"
      ]
     },
     "execution_count": 3,
     "metadata": {},
     "output_type": "execute_result"
    }
   ],
   "source": [
    "accum(\"RqaEzty\")"
   ]
  },
  {
   "cell_type": "code",
   "execution_count": 4,
   "metadata": {},
   "outputs": [
    {
     "data": {
      "text/plain": [
       "'C-Ww-Aaa-Tttt'"
      ]
     },
     "execution_count": 4,
     "metadata": {},
     "output_type": "execute_result"
    }
   ],
   "source": [
    "accum(\"cwAt\")"
   ]
  }
 ],
 "metadata": {
  "kernelspec": {
   "display_name": "Python 3",
   "language": "python",
   "name": "python3"
  },
  "language_info": {
   "codemirror_mode": {
    "name": "ipython",
    "version": 3
   },
   "file_extension": ".py",
   "mimetype": "text/x-python",
   "name": "python",
   "nbconvert_exporter": "python",
   "pygments_lexer": "ipython3",
   "version": "3.7.4"
  }
 },
 "nbformat": 4,
 "nbformat_minor": 2
}
