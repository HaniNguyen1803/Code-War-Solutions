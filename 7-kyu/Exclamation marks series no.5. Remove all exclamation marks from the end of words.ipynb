{
 "cells": [
  {
   "cell_type": "markdown",
   "metadata": {},
   "source": [
<<<<<<< HEAD
    "### Exclamation marks series #5: Remove all exclamation marks from the end of words \n",
=======
    "### Exclamation marks series #5: Remove all exclamation marks from the end of words\n",
>>>>>>> 09871bf1b34453d7a36ea84e74fa341e315e64be
    "\n",
    "Remove all exclamation marks from the end of words. Words are separated by spaces in the sentence."
   ]
  },
  {
   "cell_type": "code",
<<<<<<< HEAD
   "execution_count": 13,
=======
   "execution_count": 1,
>>>>>>> 09871bf1b34453d7a36ea84e74fa341e315e64be
   "metadata": {},
   "outputs": [],
   "source": [
    "import re\n",
    "def remove(s):\n",
    "    final = []\n",
    "    for i in s.split():\n",
    "        final.append(''.join(re.findall('.*[\\w]',i)))\n",
    "    return ' '.join(final)"
   ]
  },
  {
   "cell_type": "code",
<<<<<<< HEAD
   "execution_count": 14,
=======
   "execution_count": 2,
>>>>>>> 09871bf1b34453d7a36ea84e74fa341e315e64be
   "metadata": {},
   "outputs": [
    {
     "data": {
      "text/plain": [
       "'!!!Hi !!hi !hi'"
      ]
     },
<<<<<<< HEAD
     "execution_count": 14,
=======
     "execution_count": 2,
>>>>>>> 09871bf1b34453d7a36ea84e74fa341e315e64be
     "metadata": {},
     "output_type": "execute_result"
    }
   ],
   "source": [
<<<<<<< HEAD
    "remove('!!!Hi !!hi!!! !hi')"
=======
    "remove(\"!!!Hi !!hi!!! !hi\")"
>>>>>>> 09871bf1b34453d7a36ea84e74fa341e315e64be
   ]
  },
  {
   "cell_type": "code",
<<<<<<< HEAD
   "execution_count": 15,
=======
   "execution_count": 3,
>>>>>>> 09871bf1b34453d7a36ea84e74fa341e315e64be
   "metadata": {},
   "outputs": [
    {
     "data": {
      "text/plain": [
       "'Hi Hi'"
      ]
     },
<<<<<<< HEAD
     "execution_count": 15,
=======
     "execution_count": 3,
>>>>>>> 09871bf1b34453d7a36ea84e74fa341e315e64be
     "metadata": {},
     "output_type": "execute_result"
    }
   ],
   "source": [
<<<<<<< HEAD
    "remove('Hi! Hi!')"
=======
    "remove(\"Hi! Hi!\") "
>>>>>>> 09871bf1b34453d7a36ea84e74fa341e315e64be
   ]
  },
  {
   "cell_type": "code",
<<<<<<< HEAD
   "execution_count": 16,
=======
   "execution_count": 4,
>>>>>>> 09871bf1b34453d7a36ea84e74fa341e315e64be
   "metadata": {},
   "outputs": [
    {
     "data": {
      "text/plain": [
       "'Hi'"
      ]
     },
<<<<<<< HEAD
     "execution_count": 16,
=======
     "execution_count": 4,
>>>>>>> 09871bf1b34453d7a36ea84e74fa341e315e64be
     "metadata": {},
     "output_type": "execute_result"
    }
   ],
   "source": [
<<<<<<< HEAD
    "remove('Hi!!!')"
=======
    "remove(\"Hi!!!\")"
>>>>>>> 09871bf1b34453d7a36ea84e74fa341e315e64be
   ]
  }
 ],
 "metadata": {
  "kernelspec": {
   "display_name": "Python 3",
   "language": "python",
   "name": "python3"
  },
  "language_info": {
   "codemirror_mode": {
    "name": "ipython",
    "version": 3
   },
   "file_extension": ".py",
   "mimetype": "text/x-python",
   "name": "python",
   "nbconvert_exporter": "python",
   "pygments_lexer": "ipython3",
<<<<<<< HEAD
   "version": "3.7.4"
  }
 },
 "nbformat": 4,
 "nbformat_minor": 2
=======
   "version": "3.7.6"
  }
 },
 "nbformat": 4,
 "nbformat_minor": 4
>>>>>>> 09871bf1b34453d7a36ea84e74fa341e315e64be
}
