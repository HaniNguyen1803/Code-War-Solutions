{
 "cells": [
  {
   "cell_type": "markdown",
   "metadata": {},
   "source": [
    "### Fruit string calculator\n",
    "\n",
    "Given a string of words and numbers. Extract the expression including:\n",
    "\n",
    "- the operator: either addition or subtraction\n",
    "- the two numbers that we are operating on\n",
    "\n",
    "Return the result of the calculation.\n",
    "\n",
    "Example:\n",
    "\n",
    "\"Panda has 48 apples and loses 4\" returns 44\n",
    "\n",
    "\"Jerry has 34 apples and gains 6\" returns 40\n",
    "\n",
    "\"loses\" and \"gains\" are the only two words describing operators."
   ]
  },
  {
   "cell_type": "code",
   "execution_count": 1,
   "metadata": {},
   "outputs": [],
   "source": [
    "import re\n",
    "def calculate(string):\n",
    "    re1 = re.findall(\"(\\d+|loses|gains)\",string)\n",
    "    return int(re1[0]) - int(re1[2]) if \"loses\" in re1 else int(re1[0]) + int(re1[2])"
   ]
  },
  {
   "cell_type": "code",
   "execution_count": 2,
   "metadata": {},
   "outputs": [
    {
     "data": {
      "text/plain": [
       "60"
      ]
     },
     "execution_count": 2,
     "metadata": {},
     "output_type": "execute_result"
    }
   ],
   "source": [
    "calculate(\"Fred has 110 bananas and loses 50\")"
   ]
  },
  {
   "cell_type": "code",
   "execution_count": 3,
   "metadata": {},
   "outputs": [
    {
     "data": {
      "text/plain": [
       "35"
      ]
     },
     "execution_count": 3,
     "metadata": {},
     "output_type": "execute_result"
    }
   ],
   "source": [
    "calculate(\"Tom has 20 apples and gains 15\")"
   ]
  }
 ],
 "metadata": {
  "kernelspec": {
   "display_name": "Python 3",
   "language": "python",
   "name": "python3"
  },
  "language_info": {
   "codemirror_mode": {
    "name": "ipython",
    "version": 3
   },
   "file_extension": ".py",
   "mimetype": "text/x-python",
   "name": "python",
   "nbconvert_exporter": "python",
   "pygments_lexer": "ipython3",
   "version": "3.7.6"
  }
 },
 "nbformat": 4,
 "nbformat_minor": 4
}
