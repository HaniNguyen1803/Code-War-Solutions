{
 "cells": [
  {
   "cell_type": "markdown",
   "metadata": {},
   "source": [
    "### The old switcheroo\n",
    "\n",
    "Write a function\n",
    "\n",
    "- vowel_2_index('this is my string') == 'th3s 6s my str15ng'\n",
    "- vowel_2_index('Codewars is the best site in the world') == 'C2d4w6rs 10s th15 b18st s23t25 27n th32 w35rld'\n",
    "- vowel_2_index('') == ''\n",
    "\n",
    "Your function should be case insensitive to the vowels."
   ]
  },
  {
   "cell_type": "code",
   "execution_count": 1,
   "metadata": {},
   "outputs": [],
   "source": [
    "import re \n",
    "def vowel_2_index(string):\n",
    "    new = []\n",
    "    for i,j in enumerate(string):\n",
    "        if j in ['a','e','i','o','u','A','E','I','O','U']:\n",
    "            new.append(str(i+1))\n",
    "        else:\n",
    "            new.append(j)\n",
    "    return (''.join(new))"
   ]
  },
  {
   "cell_type": "code",
   "execution_count": 2,
   "metadata": {},
   "outputs": [
    {
     "data": {
      "text/plain": [
       "'T2m4rr7w 10s g1415ng t20 b23 r2627n29ng'"
      ]
     },
     "execution_count": 2,
     "metadata": {},
     "output_type": "execute_result"
    }
   ],
   "source": [
    "vowel_2_index('Tomorrow is going to be raining')"
   ]
  },
  {
   "cell_type": "code",
   "execution_count": 3,
   "metadata": {},
   "outputs": [
    {
     "data": {
      "text/plain": [
       "'C2d4w6rs 10s th15 b18st s23t25 27n th32 w35rld'"
      ]
     },
     "execution_count": 3,
     "metadata": {},
     "output_type": "execute_result"
    }
   ],
   "source": [
    "vowel_2_index('Codewars is the best site in the world')"
   ]
  },
  {
   "cell_type": "code",
   "execution_count": 4,
   "metadata": {},
   "outputs": [
    {
     "data": {
      "text/plain": [
       "'H2lKvQ ?R10k:X14KH17hpGlSQN25'"
      ]
     },
     "execution_count": 4,
     "metadata": {},
     "output_type": "execute_result"
    }
   ],
   "source": [
    "vowel_2_index('HelKvQ ?Rek:XaKHAhpGlSQNI')"
   ]
  }
 ],
 "metadata": {
  "kernelspec": {
   "display_name": "Python 3",
   "language": "python",
   "name": "python3"
  },
  "language_info": {
   "codemirror_mode": {
    "name": "ipython",
    "version": 3
   },
   "file_extension": ".py",
   "mimetype": "text/x-python",
   "name": "python",
   "nbconvert_exporter": "python",
   "pygments_lexer": "ipython3",
   "version": "3.7.4"
  }
 },
 "nbformat": 4,
 "nbformat_minor": 2
}
