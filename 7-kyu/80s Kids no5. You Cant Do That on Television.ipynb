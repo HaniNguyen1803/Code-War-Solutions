{
 "cells": [
  {
   "cell_type": "markdown",
   "metadata": {},
   "source": [
    "### 80's Kids #5: You Can't Do That on Television \n",
    "\n",
    "There are just some things you can't do on television. In this case, you've just come back from having a \"delicious\" Barth burger and you're set to give an interview. The Barth burger has made you queezy, and you've forgotten some of the import rules of the \"You Can't Do That on Television\" set.\n",
    "\n",
    "If you say any of the following words a large bucket of \"water\" will be dumped on you: \"water\", \"wet\", \"wash\" This is true for any form of those words, like \"washing\", \"watered\", etc.\n",
    "\n",
    "If you say any of the following phrases you will be doused in \"slime\": \"I don't know\", \"slime\"\n",
    "\n",
    "If you say both in one sentence, a combination of water and slime, \"sludge\", will be dumped on you.\n",
    "\n",
    "Write a function, bucketOf(str), that takes a string and determines what will be dumped on your head. If you haven't said anything you shouldn't have, the bucket should be filled with \"air\". The words should be tested regardless of case."
   ]
  },
  {
   "cell_type": "code",
   "execution_count": 45,
   "metadata": {},
   "outputs": [],
   "source": [
    "import re\n",
    "def bucket_of(said):\n",
    "    re1 = re.search(\"(water|wet|wash)\",said,re.IGNORECASE)\n",
    "    re2 = re.search(\"(slime|I don't know)\",said,re.IGNORECASE)\n",
    "    if re1 and re2: return \"sludge\"\n",
    "    elif re1: return \"water\"\n",
    "    elif re2: return \"slime\"\n",
    "    else: return \"air\""
   ]
  },
  {
   "cell_type": "code",
   "execution_count": 17,
   "metadata": {},
   "outputs": [],
   "source": [
    "def bucket_of1(said):\n",
    "    re1 = re.search(\"(water|wet|wash)\",said)\n",
    "    re2 = re.search(\"(slime|I don't know)\",said)\n",
    "    print(re1,re2)\n",
    "    print(list(re1,re2))\n",
    "    if bool(re1): return \"water\"\n",
    "    elif bool(re2): return \"slime\"\n",
    "    elif all(bool(re1),bool(re2)): return \"sludge\"\n",
    "    else: return \"air\""
   ]
  },
  {
   "cell_type": "code",
   "execution_count": 44,
   "metadata": {},
   "outputs": [
    {
     "data": {
      "text/plain": [
       "'air'"
      ]
     },
     "execution_count": 44,
     "metadata": {},
     "output_type": "execute_result"
    }
   ],
   "source": [
    "bucket_of(\"\")"
   ]
  },
  {
   "cell_type": "code",
   "execution_count": 46,
   "metadata": {},
   "outputs": [
    {
     "data": {
      "text/plain": [
       "'sludge'"
      ]
     },
     "execution_count": 46,
     "metadata": {},
     "output_type": "execute_result"
    }
   ],
   "source": [
    "bucket_of(\"I don't know if this will work without watering it first.\")"
   ]
  },
  {
   "cell_type": "code",
   "execution_count": 43,
   "metadata": {},
   "outputs": [
    {
     "data": {
      "text/plain": [
       "'slime'"
      ]
     },
     "execution_count": 43,
     "metadata": {},
     "output_type": "execute_result"
    }
   ],
   "source": [
    "bucket_of(\"I don't know if this will work\")"
   ]
  },
  {
   "cell_type": "code",
   "execution_count": 8,
   "metadata": {},
   "outputs": [
    {
     "data": {
      "text/plain": [
       "True"
      ]
     },
     "execution_count": 8,
     "metadata": {},
     "output_type": "execute_result"
    }
   ],
   "source": [
    "import re\n",
    "mystr = \"slime water\"\n",
    "re1 = re.search(\"(water|wet|wash)\",mystr)\n",
    "bool(re1)"
   ]
  },
  {
   "cell_type": "code",
   "execution_count": 12,
   "metadata": {},
   "outputs": [
    {
     "data": {
      "text/plain": [
       "<re.Match object; span=(0, 12), match=\"I don't know\">"
      ]
     },
     "execution_count": 12,
     "metadata": {},
     "output_type": "execute_result"
    }
   ],
   "source": [
    "re.search(\"(slime|I don't know)\",\"I don't know if this will work without watering it first.\")"
   ]
  }
 ],
 "metadata": {
  "kernelspec": {
   "display_name": "Python 3",
   "language": "python",
   "name": "python3"
  },
  "language_info": {
   "codemirror_mode": {
    "name": "ipython",
    "version": 3
   },
   "file_extension": ".py",
   "mimetype": "text/x-python",
   "name": "python",
   "nbconvert_exporter": "python",
   "pygments_lexer": "ipython3",
   "version": "3.7.6"
  }
 },
 "nbformat": 4,
 "nbformat_minor": 4
}
