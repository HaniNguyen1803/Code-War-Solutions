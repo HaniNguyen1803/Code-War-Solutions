{
 "cells": [
  {
   "cell_type": "markdown",
   "metadata": {},
   "source": [
    "### Remove duplicate words\n",
    "\n",
    "Your task is to remove all duplicate words from a string, leaving only single (first) words entries. "
   ]
  },
  {
   "cell_type": "code",
   "execution_count": 1,
   "metadata": {},
   "outputs": [],
   "source": [
    "def remove_duplicate_words(s):\n",
    "    d = dict((i,s.split(' ').count(i)) for i in s.split(' '))\n",
    "    return ' '.join(d.keys())"
   ]
  },
  {
   "cell_type": "code",
   "execution_count": 2,
   "metadata": {},
   "outputs": [
    {
     "data": {
      "text/plain": [
       "'alpha beta gamma delta'"
      ]
     },
     "execution_count": 2,
     "metadata": {},
     "output_type": "execute_result"
    }
   ],
   "source": [
    "remove_duplicate_words(\"alpha beta beta gamma gamma gamma delta alpha beta beta gamma gamma gamma delta\")"
   ]
  },
  {
   "cell_type": "code",
   "execution_count": 3,
   "metadata": {},
   "outputs": [
    {
     "data": {
      "text/plain": [
       "'my cat is fat'"
      ]
     },
     "execution_count": 3,
     "metadata": {},
     "output_type": "execute_result"
    }
   ],
   "source": [
    "remove_duplicate_words(\"my cat is my cat fat\")"
   ]
  },
  {
   "cell_type": "code",
   "execution_count": 4,
   "metadata": {},
   "outputs": [
    {
     "data": {
      "text/plain": [
       "'xJDwJtWD LNZvHrfKQf AVWHcdVT lPjaYXDYL biMnyoiA BhSOtXct JlKTGsFbBL GVvOBtKft EWsrwtLJsY eocSkOEU'"
      ]
     },
     "execution_count": 4,
     "metadata": {},
     "output_type": "execute_result"
    }
   ],
   "source": [
    "remove_duplicate_words(\"xJDwJtWD LNZvHrfKQf AVWHcdVT lPjaYXDYL xJDwJtWD xJDwJtWD biMnyoiA BhSOtXct JlKTGsFbBL xJDwJtWD xJDwJtWD GVvOBtKft EWsrwtLJsY lPjaYXDYL BhSOtXct eocSkOEU\")"
   ]
  }
 ],
 "metadata": {
  "kernelspec": {
   "display_name": "Python 3",
   "language": "python",
   "name": "python3"
  },
  "language_info": {
   "codemirror_mode": {
    "name": "ipython",
    "version": 3
   },
   "file_extension": ".py",
   "mimetype": "text/x-python",
   "name": "python",
   "nbconvert_exporter": "python",
   "pygments_lexer": "ipython3",
   "version": "3.7.6"
  }
 },
 "nbformat": 4,
 "nbformat_minor": 4
}
