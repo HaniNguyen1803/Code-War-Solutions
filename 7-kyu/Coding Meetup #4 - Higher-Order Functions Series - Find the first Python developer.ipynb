{
 "cells": [
  {
   "cell_type": "markdown",
   "metadata": {},
   "source": [
    "### Coding Meetup #4 - Higher-Order Functions Series - Find the first Python developer \n",
    "\n",
    "You will be given an array of objects (associative arrays in PHP) representing data about developers who have signed up to attend the next coding meetup that you are organising. The list is ordered according to who signed up first.\n",
    "\n",
    "Your task is to return one of the following strings:\n",
    "\n",
    "- \"< firstName here >, < country here >\" of the first Python developer who has signed up; or\n",
    "- \"There will be no Python developers\" if no Python developer has signed up."
   ]
  },
  {
   "cell_type": "code",
   "execution_count": 1,
   "metadata": {},
   "outputs": [],
   "source": [
    "def get_first_python(users):\n",
    "    for developer in users:\n",
    "        if developer['language'] == 'Python':\n",
    "            result = \"{}, {}\".format(developer['first_name'],developer['country'])\n",
    "            break\n",
    "        else: result = \"There will be no Python developers\"\n",
    "    return result"
   ]
  },
  {
   "cell_type": "code",
   "execution_count": 2,
   "metadata": {},
   "outputs": [
    {
     "data": {
      "text/plain": [
       "'Victoria, Puerto Rico'"
      ]
     },
     "execution_count": 2,
     "metadata": {},
     "output_type": "execute_result"
    }
   ],
   "source": [
    "list1 = [\n",
    "  { \"first_name\": \"Mark\", \"last_name\": \"G.\", \"country\": \"Scotland\", \"continent\": \"Europe\", \"age\": 22, \"language\": \"JavaScript\" },\n",
    "  { \"first_name\": \"Victoria\", \"last_name\": \"T.\", \"country\": \"Puerto Rico\", \"continent\": \"Americas\", \"age\": 30, \"language\": \"Python\" },\n",
    "  { \"first_name\": \"Emma\", \"last_name\": \"B.\", \"country\": \"Norway\", \"continent\": \"Europe\", \"age\": 19, \"language\": \"Clojure\" }\n",
    "]\n",
    "get_first_python(list1)"
   ]
  },
  {
   "cell_type": "code",
   "execution_count": 3,
   "metadata": {},
   "outputs": [
    {
     "data": {
      "text/plain": [
       "'There will be no Python developers'"
      ]
     },
     "execution_count": 3,
     "metadata": {},
     "output_type": "execute_result"
    }
   ],
   "source": [
    "list2 = [\n",
    "  { \"first_name\": \"Kseniya\", \"last_name\": \"T.\", \"country\": \"Belarus\", \"continent\": \"Europe\", \"age\": 29, \"language\": \"JavaScript\" },\n",
    "  { \"first_name\": \"Amar\", \"last_name\": \"V.\", \"country\": \"Bosnia and Herzegovina\", \"continent\": \"Europe\", \"age\": 32, \"language\": \"Ruby\" }\n",
    "]\n",
    "get_first_python(list2)"
   ]
  }
 ],
 "metadata": {
  "kernelspec": {
   "display_name": "Python 3",
   "language": "python",
   "name": "python3"
  },
  "language_info": {
   "codemirror_mode": {
    "name": "ipython",
    "version": 3
   },
   "file_extension": ".py",
   "mimetype": "text/x-python",
   "name": "python",
   "nbconvert_exporter": "python",
   "pygments_lexer": "ipython3",
   "version": "3.7.6"
  }
 },
 "nbformat": 4,
 "nbformat_minor": 4
}
