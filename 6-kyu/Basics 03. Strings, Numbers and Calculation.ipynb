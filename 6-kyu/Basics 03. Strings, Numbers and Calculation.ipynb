{
 "cells": [
  {
   "cell_type": "markdown",
   "metadata": {},
   "source": [
    "### Basics 03: Strings, Numbers and Calculation\n",
    "\n",
    "Here you have to do some mathematical operations on a \"dirty string\". This kata checks some basics, it's not too difficult.\n",
    "\n",
    "So what to do?\n",
    "\n",
    "Input: String which consists of two positive numbers (doubles) and exactly one operator like +,-,*,/, always between these numbers. The string is dirty, which means that there are different characters inside too, not only numbers and the operator. You have to combine all digits left and right, perhaps with \".\" inside (doubles) and to calculate the result which has to be rounded to an integer and converted to a string at the end."
   ]
  },
  {
   "cell_type": "code",
   "execution_count": 1,
   "metadata": {},
   "outputs": [],
   "source": [
    "def calculate_string(st): \n",
    "    new = []\n",
    "    for i in st:\n",
    "        if i.isdigit() or i in ['+','-','*','/','.']:\n",
    "            new.append(i)\n",
    "    new = ''.join(new)\n",
    "    for i in ['+','-','*','/']:\n",
    "        first, middle, rest = new.partition(i)\n",
    "        if middle in ['+','-','*','/']:\n",
    "            if middle == '+': return str(round((int(float(first)))+(int(float(rest)))))\n",
    "            elif middle == '-': return str(round((int(float(first)))-(int(float(rest)))))\n",
    "            elif middle == '*': return str(round((int(float(first)))*(int(float(rest)))))\n",
    "            elif middle == '/': return str(round((int(float(first)))/(int(float(rest)))))"
   ]
  },
  {
   "cell_type": "code",
   "execution_count": 2,
   "metadata": {},
   "outputs": [
    {
     "data": {
      "text/plain": [
       "'54929268'"
      ]
     },
     "execution_count": 2,
     "metadata": {},
     "output_type": "execute_result"
    }
   ],
   "source": [
    "calculate_string(\"gdfgdf234dg54gf*23oP42\")"
   ]
  },
  {
   "cell_type": "code",
   "execution_count": 3,
   "metadata": {},
   "outputs": [
    {
     "data": {
      "text/plain": [
       "'-210908'"
      ]
     },
     "execution_count": 3,
     "metadata": {},
     "output_type": "execute_result"
    }
   ],
   "source": [
    "calculate_string(\"fsdfsd235???34.4554s4234df-sdfgf2g3h4j442\")"
   ]
  },
  {
   "cell_type": "code",
   "execution_count": 4,
   "metadata": {},
   "outputs": [
    {
     "data": {
      "text/plain": [
       "'12'"
      ]
     },
     "execution_count": 4,
     "metadata": {},
     "output_type": "execute_result"
    }
   ],
   "source": [
    "calculate_string(\"a1a2b3c.c0c/a1a0b.cc00c\")"
   ]
  }
 ],
 "metadata": {
  "kernelspec": {
   "display_name": "Python 3",
   "language": "python",
   "name": "python3"
  },
  "language_info": {
   "codemirror_mode": {
    "name": "ipython",
    "version": 3
   },
   "file_extension": ".py",
   "mimetype": "text/x-python",
   "name": "python",
   "nbconvert_exporter": "python",
   "pygments_lexer": "ipython3",
   "version": "3.7.6"
  }
 },
 "nbformat": 4,
 "nbformat_minor": 4
}
