{
 "cells": [
  {
   "cell_type": "markdown",
   "metadata": {},
   "source": [
    "### The Vowel Code \n",
    "\n",
    "Create a function called encode() to replace all the lowercase vowels in a given string with numbers according to the following pattern:\n",
    "- a -> 1\n",
    "- e -> 2\n",
    "- i -> 3\n",
    "- o -> 4\n",
    "- u -> 5\n",
    "\n",
    "Step 2: Now create a function called decode() to turn the numbers back into vowels according to the same pattern shown above."
   ]
  },
  {
   "cell_type": "code",
   "execution_count": 1,
   "metadata": {},
   "outputs": [],
   "source": [
    "symbols = ['a','e','i','o','u']\n",
    "num = ['1','2','3','4','5']\n",
    "\n",
    "def encode(st):\n",
    "    my_dict = dict(zip(symbols,num))\n",
    "    text = \"\".join([my_dict.get(c, c) for c in st])\n",
    "    return text\n",
    "\n",
    "def decode(st):\n",
    "    my_dict = dict(zip(num,symbols))\n",
    "    text = \"\".join([my_dict.get(c, c) for c in st])\n",
    "    return text"
   ]
  },
  {
   "cell_type": "code",
   "execution_count": 2,
   "metadata": {},
   "outputs": [
    {
     "data": {
      "text/plain": [
       "'H4w 1r2 y45 t4d1y?'"
      ]
     },
     "execution_count": 2,
     "metadata": {},
     "output_type": "execute_result"
    }
   ],
   "source": [
    "encode('How are you today?')"
   ]
  },
  {
   "cell_type": "code",
   "execution_count": 3,
   "metadata": {},
   "outputs": [
    {
     "data": {
      "text/plain": [
       "'hello'"
      ]
     },
     "execution_count": 3,
     "metadata": {},
     "output_type": "execute_result"
    }
   ],
   "source": [
    "decode('h2ll4')"
   ]
  },
  {
   "cell_type": "code",
   "execution_count": 4,
   "metadata": {},
   "outputs": [
    {
     "data": {
      "text/plain": [
       "'Th3s 3s 1n 2nc4d3ng t2st.'"
      ]
     },
     "execution_count": 4,
     "metadata": {},
     "output_type": "execute_result"
    }
   ],
   "source": [
    "encode('This is an encoding test.')"
   ]
  },
  {
   "cell_type": "code",
   "execution_count": 5,
   "metadata": {},
   "outputs": [
    {
     "data": {
      "text/plain": [
       "'This is an encoding test.'"
      ]
     },
     "execution_count": 5,
     "metadata": {},
     "output_type": "execute_result"
    }
   ],
   "source": [
    "decode('Th3s 3s 1n 2nc4d3ng t2st.')"
   ]
  }
 ],
 "metadata": {
  "kernelspec": {
   "display_name": "Python 3",
   "language": "python",
   "name": "python3"
  },
  "language_info": {
   "codemirror_mode": {
    "name": "ipython",
    "version": 3
   },
   "file_extension": ".py",
   "mimetype": "text/x-python",
   "name": "python",
   "nbconvert_exporter": "python",
   "pygments_lexer": "ipython3",
   "version": "3.7.6"
  }
 },
 "nbformat": 4,
 "nbformat_minor": 4
}
