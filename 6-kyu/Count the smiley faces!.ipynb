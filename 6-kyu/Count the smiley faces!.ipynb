{
 "cells": [
  {
   "cell_type": "markdown",
   "metadata": {},
   "source": [
    "### Count the smiley faces!\n",
    "\n",
    "Given an array (arr) as an argument complete the function countSmileys that should return the total number of smiling faces.\n",
    "\n",
    "Rules for a smiling face:\n",
    "\n",
    "Each smiley face must contain a valid pair of eyes. Eyes can be marked as : or ;\n",
    "A smiley face can have a nose but it does not have to. Valid characters for a nose are - or ~\n",
    "Every smiling face must have a smiling mouth that should be marked with either ) or D\n",
    "No additional characters are allowed except for those mentioned.\n",
    "\n",
    "Valid smiley face examples: :) :D ;-D :~)\n",
    "Invalid smiley faces: ;( :> :} :]"
   ]
  },
  {
   "cell_type": "code",
   "execution_count": 1,
   "metadata": {},
   "outputs": [],
   "source": [
    "import re\n",
    "def count_smileys(arr):\n",
    "    smiley = [re.findall(r'[:;][-~]?[)D]',i) for i in arr]\n",
    "    while [] in smiley: smiley.remove([])\n",
    "    return len(smiley)"
   ]
  },
  {
   "cell_type": "code",
   "execution_count": 2,
   "metadata": {},
   "outputs": [
    {
     "data": {
      "text/plain": [
       "4"
      ]
     },
     "execution_count": 2,
     "metadata": {},
     "output_type": "execute_result"
    }
   ],
   "source": [
    "count_smileys([':D',':~)',';~D',':)'])"
   ]
  },
  {
   "cell_type": "code",
   "execution_count": 3,
   "metadata": {},
   "outputs": [
    {
     "data": {
      "text/plain": [
       "1"
      ]
     },
     "execution_count": 3,
     "metadata": {},
     "output_type": "execute_result"
    }
   ],
   "source": [
    "count_smileys([';]', ':[', ';*', ':$', ';-D'])"
   ]
  }
 ],
 "metadata": {
  "kernelspec": {
   "display_name": "Python 3",
   "language": "python",
   "name": "python3"
  },
  "language_info": {
   "codemirror_mode": {
    "name": "ipython",
    "version": 3
   },
   "file_extension": ".py",
   "mimetype": "text/x-python",
   "name": "python",
   "nbconvert_exporter": "python",
   "pygments_lexer": "ipython3",
   "version": "3.7.6"
  }
 },
 "nbformat": 4,
 "nbformat_minor": 4
}
