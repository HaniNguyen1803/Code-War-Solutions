{
 "cells": [
  {
   "cell_type": "markdown",
   "metadata": {},
   "source": [
    "### extract file name\n",
    "\n",
    "You have to extract a portion of the file name as follows:\n",
    "\n",
    "- Assume it will start with date represented as long number\n",
    "- Followed by an underscore\n",
    "- You'll have then a filename with an extension\n",
    "- it will always have an extra extension at the end"
   ]
  },
  {
   "cell_type": "code",
   "execution_count": 1,
   "metadata": {},
   "outputs": [],
   "source": [
    "import re\n",
    "def extract_file_name(dirty_file_name):\n",
    "    clean = re.sub('^\\d+_','',dirty_file_name)\n",
    "    clean = re.sub('\\.[\\w-]+$','',clean)\n",
    "    return clean"
   ]
  },
  {
   "cell_type": "code",
   "execution_count": 2,
   "metadata": {},
   "outputs": [
    {
     "data": {
      "text/plain": [
       "'FILE_NAME.EXTENSION'"
      ]
     },
     "execution_count": 2,
     "metadata": {},
     "output_type": "execute_result"
    }
   ],
   "source": [
    "extract_file_name(\"1_FILE_NAME.EXTENSION.OTHEREXTENSIONadasdassdassds34\")"
   ]
  },
  {
   "cell_type": "code",
   "execution_count": 3,
   "metadata": {},
   "outputs": [
    {
     "data": {
      "text/plain": [
       "'FILE_NAME.EXTENSION'"
      ]
     },
     "execution_count": 3,
     "metadata": {},
     "output_type": "execute_result"
    }
   ],
   "source": [
    "extract_file_name(\"1231231223123131_FILE_NAME.EXTENSION.OTHEREXTENSION\")"
   ]
  },
  {
   "cell_type": "code",
   "execution_count": 4,
   "metadata": {},
   "outputs": [
    {
     "data": {
      "text/plain": [
       "'EQBNNTpZnnjLY_Tw-yANaCKPoftQi-r.h7k'"
      ]
     },
     "execution_count": 4,
     "metadata": {},
     "output_type": "execute_result"
    }
   ],
   "source": [
    "extract_file_name('902501041840923592350_EQBNNTpZnnjLY_Tw-yANaCKPoftQi-r.h7k.057qL6m358_4H-f9Qz90T692R10ys')"
   ]
  },
  {
   "cell_type": "code",
   "execution_count": 5,
   "metadata": {},
   "outputs": [
    {
     "data": {
      "text/plain": [
       "'yQSypw-.529'"
      ]
     },
     "execution_count": 5,
     "metadata": {},
     "output_type": "execute_result"
    }
   ],
   "source": [
    "extract_file_name(\"968944473714271187755010_yQSypw-.529.G4h56__x9xU615rr124Go2-o5lr8Cn7H\")"
   ]
  }
 ],
 "metadata": {
  "kernelspec": {
   "display_name": "Python 3",
   "language": "python",
   "name": "python3"
  },
  "language_info": {
   "codemirror_mode": {
    "name": "ipython",
    "version": 3
   },
   "file_extension": ".py",
   "mimetype": "text/x-python",
   "name": "python",
   "nbconvert_exporter": "python",
   "pygments_lexer": "ipython3",
   "version": "3.7.6"
  }
 },
 "nbformat": 4,
 "nbformat_minor": 4
}
