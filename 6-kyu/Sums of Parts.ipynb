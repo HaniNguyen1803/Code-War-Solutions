{
 "cells": [
  {
   "cell_type": "markdown",
   "metadata": {},
   "source": [
    "### Sums of Parts\n",
    "\n",
    "Let us consider this example (array written in general format):\n",
    "\n",
    "ls = [0, 1, 3, 6, 10]\n",
    "\n",
    "Its following parts:\n",
    "\n",
    "ls = [0, 1, 3, 6, 10]\n",
    "ls = [1, 3, 6, 10]\n",
    "ls = [3, 6, 10]\n",
    "ls = [6, 10]\n",
    "ls = [10]\n",
    "ls = []\n",
    "The corresponding sums are (put together in a list): [20, 20, 19, 16, 10, 0]\n",
    "\n",
    "The function parts_sums (or its variants in other languages) will take as parameter a list ls and return a list of the sums of its parts as defined above."
   ]
  },
  {
   "cell_type": "code",
   "execution_count": 9,
   "metadata": {},
   "outputs": [],
   "source": [
    "def parts_sums(ls):\n",
    "    m = []\n",
    "    i = 0\n",
    "    while i in range(len(ls)+1):\n",
    "        m.append(sum(ls[i:]))\n",
    "        i += 1\n",
    "    return m"
   ]
  },
  {
   "cell_type": "code",
   "execution_count": 12,
   "metadata": {},
   "outputs": [],
   "source": [
    "def parts_sums(ls):\n",
    "    return [sum(ls[i:]) for i in range(len(ls)+1)]"
   ]
  },
  {
   "cell_type": "code",
   "execution_count": 12,
   "metadata": {},
   "outputs": [],
   "source": [
    "def parts_sums(ls):\n",
    "    count = len(ls)\n",
    "    m = []\n",
    "    \n",
    "    return [sum(ls[i:]) for i in range(len(ls)+1)]"
   ]
  },
  {
   "cell_type": "code",
   "execution_count": 13,
   "metadata": {},
   "outputs": [
    {
     "data": {
      "text/plain": [
       "[21, 20, 18, 15, 11, 6, 0]"
      ]
     },
     "execution_count": 13,
     "metadata": {},
     "output_type": "execute_result"
    }
   ],
   "source": [
    "parts_sums([1, 2, 3, 4, 5, 6])"
   ]
  },
  {
   "cell_type": "code",
   "execution_count": 14,
   "metadata": {},
   "outputs": [
    {
     "data": {
      "text/plain": [
       "[10037855,\n",
       " 9293730,\n",
       " 9292795,\n",
       " 9292388,\n",
       " 9291934,\n",
       " 9291504,\n",
       " 9291414,\n",
       " 9291270,\n",
       " 2581057,\n",
       " 2580168,\n",
       " 2579358,\n",
       " 0]"
      ]
     },
     "execution_count": 14,
     "metadata": {},
     "output_type": "execute_result"
    }
   ],
   "source": [
    "parts_sums([744125, 935, 407, 454, 430, 90, 144, 6710213, 889, 810, 2579358])"
   ]
  }
 ],
 "metadata": {
  "kernelspec": {
   "display_name": "Python 3",
   "language": "python",
   "name": "python3"
  },
  "language_info": {
   "codemirror_mode": {
    "name": "ipython",
    "version": 3
   },
   "file_extension": ".py",
   "mimetype": "text/x-python",
   "name": "python",
   "nbconvert_exporter": "python",
   "pygments_lexer": "ipython3",
   "version": "3.7.6"
  }
 },
 "nbformat": 4,
 "nbformat_minor": 4
}
