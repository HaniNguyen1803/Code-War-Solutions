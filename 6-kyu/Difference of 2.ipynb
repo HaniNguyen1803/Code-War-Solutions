{
 "cells": [
  {
   "cell_type": "markdown",
   "metadata": {},
   "source": [
    "### Difference of 2 \n",
    "\n",
    "The objective is to return all pairs of integers from a given array of integers that have a difference of 2.\n",
    "\n",
    "The result array should be sorted in ascending order of values.\n",
    "\n",
    "Assume there are no duplicate integers in the array. The order of the integers in the input array should not matter."
   ]
  },
  {
   "cell_type": "code",
   "execution_count": 1,
   "metadata": {},
   "outputs": [],
   "source": [
    "def twos_difference(lst):\n",
    "    lst.sort()\n",
    "    result =[]\n",
    "    for i in range(len(lst)):\n",
    "        try:\n",
    "            if lst[i] + 2 == lst[i+1] :\n",
    "                result.append((lst[i],lst[i+1]))\n",
    "            elif lst[i] + 2 == lst[i+2]:\n",
    "                result.append((lst[i],lst[i+2]))\n",
    "        except IndexError:\n",
    "            pass\n",
    "        continue\n",
    "    return result"
   ]
  },
  {
   "cell_type": "code",
   "execution_count": 2,
   "metadata": {},
   "outputs": [
    {
     "data": {
      "text/plain": [
       "[(1, 3), (4, 6)]"
      ]
     },
     "execution_count": 2,
     "metadata": {},
     "output_type": "execute_result"
    }
   ],
   "source": [
    "twos_difference([1, 3, 4, 6])"
   ]
  },
  {
   "cell_type": "code",
   "execution_count": 3,
   "metadata": {},
   "outputs": [
    {
     "data": {
      "text/plain": [
       "[(1, 3), (3, 5), (4, 6)]"
      ]
     },
     "execution_count": 3,
     "metadata": {},
     "output_type": "execute_result"
    }
   ],
   "source": [
    "twos_difference([6, 3, 4, 1, 5])"
   ]
  },
  {
   "cell_type": "code",
   "execution_count": 4,
   "metadata": {},
   "outputs": [
    {
     "data": {
      "text/plain": [
       "[(1, 3), (3, 5), (6, 8), (8, 10), (10, 12), (12, 14)]"
      ]
     },
     "execution_count": 4,
     "metadata": {},
     "output_type": "execute_result"
    }
   ],
   "source": [
    "twos_difference([1, 3, 5, 6, 8, 10, 15, 32, 12, 14, 56])"
   ]
  }
 ],
 "metadata": {
  "kernelspec": {
   "display_name": "Python 3",
   "language": "python",
   "name": "python3"
  },
  "language_info": {
   "codemirror_mode": {
    "name": "ipython",
    "version": 3
   },
   "file_extension": ".py",
   "mimetype": "text/x-python",
   "name": "python",
   "nbconvert_exporter": "python",
   "pygments_lexer": "ipython3",
   "version": "3.7.6"
  }
 },
 "nbformat": 4,
 "nbformat_minor": 4
}
