{
 "cells": [
  {
   "cell_type": "markdown",
   "metadata": {},
   "source": [
    "### One is the loneliest number\n",
    "\n",
    "The range of vision of a digit is its own value. 1 can see one digit to the left and one digit to the right,2 can see two digits, and so on.\n",
    "\n",
    "Thus, the loneliness of a digit N is the sum of the digits which it can see.\n",
    "\n",
    "Given a non-negative integer, your funtion must determine if there's at least one digit 1 in this integer such that its loneliness value is minimal."
   ]
  },
  {
   "cell_type": "code",
   "execution_count": 1,
   "metadata": {},
   "outputs": [],
   "source": [
    "def loneliest(number): \n",
    "    index = 0\n",
    "    number = str(number)\n",
    "    check = []\n",
    "    loneliness =[]\n",
    "    for index in range(len(number)):\n",
    "        can_see = int(number[index])\n",
    "        can_see_right = number[(index+1):(index+can_see+1)]\n",
    "        if len(number[0:index-1]) <= can_see:\n",
    "            can_see_left = number[:index]\n",
    "        else:\n",
    "            can_see_left = number[(index-can_see):(index)]\n",
    "        sum_left = sum(int(can_see_left[i]) for i in range(len(can_see_left)))\n",
    "        sum_right = sum(int(can_see_right[i]) for i in range(len(can_see_right)))\n",
    "        loneliness.append(sum_left + sum_right)\n",
    "    for i in range(len(loneliness)):\n",
    "        if number[i] == '1' and loneliness[i] == min(loneliness): check.append(True)\n",
    "        else: check.append(False)\n",
    "    return any(check)"
   ]
  },
  {
   "cell_type": "code",
   "execution_count": 2,
   "metadata": {
    "scrolled": true
   },
   "outputs": [
    {
     "data": {
      "text/plain": [
       "True"
      ]
     },
     "execution_count": 2,
     "metadata": {},
     "output_type": "execute_result"
    }
   ],
   "source": [
    "loneliest(123456)"
   ]
  },
  {
   "cell_type": "code",
   "execution_count": 3,
   "metadata": {},
   "outputs": [
    {
     "data": {
      "text/plain": [
       "False"
      ]
     },
     "execution_count": 3,
     "metadata": {},
     "output_type": "execute_result"
    }
   ],
   "source": [
    "loneliest(65432165432)"
   ]
  },
  {
   "cell_type": "code",
   "execution_count": 4,
   "metadata": {},
   "outputs": [
    {
     "data": {
      "text/plain": [
       "False"
      ]
     },
     "execution_count": 4,
     "metadata": {},
     "output_type": "execute_result"
    }
   ],
   "source": [
    "loneliest(8854778)"
   ]
  }
 ],
 "metadata": {
  "kernelspec": {
   "display_name": "Python 3",
   "language": "python",
   "name": "python3"
  },
  "language_info": {
   "codemirror_mode": {
    "name": "ipython",
    "version": 3
   },
   "file_extension": ".py",
   "mimetype": "text/x-python",
   "name": "python",
   "nbconvert_exporter": "python",
   "pygments_lexer": "ipython3",
   "version": "3.7.6"
  }
 },
 "nbformat": 4,
 "nbformat_minor": 4
}
