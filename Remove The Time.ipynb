{
 "cells": [
  {
   "cell_type": "markdown",
   "metadata": {},
   "source": [
    "### Problem: Remove the time\n",
    "\n",
    "### Instruction:\n",
    "You're re-designing a blog and the blog's posts have the following format for showing the date and time a post was made:\n",
    "\n",
    "Weekday Month Day, time e.g., Friday May 2, 7pm\n",
    "\n",
    "You're running out of screen real estate, and on some pages you want to display a shorter format, Weekday Month Day that omits the time.\n",
    "\n",
    "Write a function, shortenToDate, that takes the Website date/time in its original string format, and returns the shortened format.\n",
    "\n",
    "Assume shortenToDate's input will always be a string, e.g. \"Friday May 2, 7pm\". Assume shortenToDate's output will be the shortened string, e.g., \"Friday May 2\"."
   ]
  },
  {
   "cell_type": "code",
   "execution_count": 1,
   "metadata": {},
   "outputs": [],
   "source": [
    "def shorten_to_date(long_date):\n",
    "    long_date = long_date.replace(\",\",\"\").split(\" \")\n",
    "    return ' '.join(long_date[:3])"
   ]
  },
  {
   "cell_type": "code",
   "execution_count": 2,
   "metadata": {},
   "outputs": [
    {
     "data": {
      "text/plain": [
       "'Monday February 2'"
      ]
     },
     "execution_count": 2,
     "metadata": {},
     "output_type": "execute_result"
    }
   ],
   "source": [
    "shorten_to_date(\"Monday February 2, 8pm\")"
   ]
  },
  {
   "cell_type": "code",
   "execution_count": null,
   "metadata": {},
   "outputs": [],
   "source": []
  }
 ],
 "metadata": {
  "kernelspec": {
   "display_name": "Python 3",
   "language": "python",
   "name": "python3"
  },
  "language_info": {
   "codemirror_mode": {
    "name": "ipython",
    "version": 3
   },
   "file_extension": ".py",
   "mimetype": "text/x-python",
   "name": "python",
   "nbconvert_exporter": "python",
   "pygments_lexer": "ipython3",
   "version": "3.7.4"
  }
 },
 "nbformat": 4,
 "nbformat_minor": 2
}
