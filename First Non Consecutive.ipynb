{
 "cells": [
  {
   "cell_type": "markdown",
   "metadata": {},
   "source": [
    "## Problem: First Non Consecutive\n",
    "\n",
    "## Instruction:\n",
    "Your task is to find the first element of an array that is not consecutive.\n",
    "\n",
    "By not consecutive we mean not exactly 1 larger than the previous element of the array.\n",
    "\n",
    "E.g. If we have an array [1,2,3,4,6,7,8] then 1 then 2 then 3 then 4 are all consecutive but 6 is not, so that's the first non-consecutive number.\n",
    "\n",
    "If the whole array is consecutive then return null2.\n",
    "\n",
    "The array will always have at least 2 elements1 and all elements will be numbers. The numbers will also all be unique and in ascending order. The numbers could be positive or negative and the first non-consecutive could be either too!\n"
   ]
  },
  {
   "cell_type": "code",
   "execution_count": null,
   "metadata": {},
   "outputs": [],
   "source": [
    "def first_non_consecutive3(arr3):\n",
    "    res = [ele for ele in range(arr3[0],max(arr3)+1) if ele not in arr3]\n",
    "    if res == []: return 'None'\n",
    "    else: return res[0]+1"
   ]
  }
 ],
 "metadata": {
  "kernelspec": {
   "display_name": "Python 3",
   "language": "python",
   "name": "python3"
  },
  "language_info": {
   "codemirror_mode": {
    "name": "ipython",
    "version": 3
   },
   "file_extension": ".py",
   "mimetype": "text/x-python",
   "name": "python",
   "nbconvert_exporter": "python",
   "pygments_lexer": "ipython3",
   "version": "3.7.4"
  }
 },
 "nbformat": 4,
 "nbformat_minor": 2
}
